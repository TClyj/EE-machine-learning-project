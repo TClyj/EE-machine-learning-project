{
 "cells": [
  {
   "cell_type": "code",
   "execution_count": 1,
   "metadata": {},
   "outputs": [],
   "source": [
    "Yijia Lu\n",
    "5/22/2023\n",
    "\n",
    "https://github.com/TClyj/EE-machine-learning-project.git\n",
    "    "
   ]
  },
  {
   "cell_type": "markdown",
   "metadata": {},
   "source": [
    "The following example code and data is from https://github.com/Jan-Williams/pyshred"
   ]
  },
  {
   "cell_type": "markdown",
   "metadata": {},
   "source": [
    "This iPython notebook gives an introductory walkthrough to using SHRED models.  The dataset we consider is weekly mean sea-surface temperature as given by the NOAA Optimum Interpolation SST V2 dataset (https://psl.noaa.gov/data/gridded/data.noaa.oisst.v2.html).\n",
    "\n",
    "SHRED (SHallow REcurrent Decoder) models are a network architecture that merges a recurrent layer (LSTM) with a shallow decoder network (SDN) to reconstruct high-dimensional spatio-temporal fields from a trajectory of sensor measurements of the field. More formally, the SHRED architecture can be written as \n",
    "$$ \\mathcal {H} \\left( \\{ y_i \\} _{i=t-k}^t \\right) = \\mathcal {F} \\left( \\mathcal {G} \\left( \\{ y_i \\} _{i=t-k}^t \\right) ; W_{RN}) ; W_{SD} \\right)$$\n",
    "where $\\mathcal F$ is a feed forward network parameterized by weights $W_{SD}$, $\\mathcal G$ is a LSTM network parameterized by weights $W_{RN}$, and $\\{ y_i \\} _{i=t-k}^t$ is a trajectory of sensor measurements of a high-dimensional spatio-temporal field $\\{ x_i \\} _{i=t-k}^t$."
   ]
  },
  {
   "cell_type": "markdown",
   "metadata": {},
   "source": [
    "We first randomly select 3 sensor locations and set the trajectory length (lags) to 52, corresponding to one year of measurements."
   ]
  },
  {
   "cell_type": "code",
   "execution_count": 2,
   "metadata": {},
   "outputs": [],
   "source": [
    "import numpy as np\n",
    "from processdata import load_data\n",
    "from processdata import TimeSeriesDataset\n",
    "import models\n",
    "import torch\n",
    "import matplotlib.pyplot as plt\n",
    "from sklearn.preprocessing import MinMaxScaler\n",
    "\n",
    "num_sensors = 3 \n",
    "lags = 52\n",
    "load_X = load_data('SST')\n",
    "n = load_X.shape[0]\n",
    "m = load_X.shape[1]\n",
    "sensor_locations = np.random.choice(m, size=num_sensors, replace=False)"
   ]
  },
  {
   "cell_type": "markdown",
   "metadata": {},
   "source": [
    "We now select indices to divide the data into training, validation, and test sets."
   ]
  },
  {
   "cell_type": "code",
   "execution_count": 3,
   "metadata": {},
   "outputs": [],
   "source": [
    "train_indices = np.random.choice(n - lags, size=1000, replace=False)\n",
    "mask = np.ones(n - lags)\n",
    "mask[train_indices] = 0\n",
    "valid_test_indices = np.arange(0, n - lags)[np.where(mask!=0)[0]]\n",
    "valid_indices = valid_test_indices[::2]\n",
    "test_indices = valid_test_indices[1::2]"
   ]
  },
  {
   "cell_type": "markdown",
   "metadata": {},
   "source": [
    "sklearn's MinMaxScaler is used to preprocess the data for training and we generate input/output pairs for the training, validation, and test sets. "
   ]
  },
  {
   "cell_type": "code",
   "execution_count": 4,
   "metadata": {},
   "outputs": [],
   "source": [
    "sc = MinMaxScaler()\n",
    "sc = sc.fit(load_X[train_indices])\n",
    "transformed_X = sc.transform(load_X)\n",
    "\n",
    "### Generate input sequences to a SHRED model\n",
    "all_data_in = np.zeros((n - lags, lags, num_sensors))\n",
    "for i in range(len(all_data_in)):\n",
    "    all_data_in[i] = transformed_X[i:i+lags, sensor_locations]\n",
    "\n",
    "### Generate training validation and test datasets both for reconstruction of states and forecasting sensors\n",
    "device = 'cuda' if torch.cuda.is_available() else 'cpu'\n",
    "\n",
    "train_data_in = torch.tensor(all_data_in[train_indices], dtype=torch.float32).to(device)\n",
    "valid_data_in = torch.tensor(all_data_in[valid_indices], dtype=torch.float32).to(device)\n",
    "test_data_in = torch.tensor(all_data_in[test_indices], dtype=torch.float32).to(device)\n",
    "\n",
    "### -1 to have output be at the same time as final sensor measurements\n",
    "train_data_out = torch.tensor(transformed_X[train_indices + lags - 1], dtype=torch.float32).to(device)\n",
    "valid_data_out = torch.tensor(transformed_X[valid_indices + lags - 1], dtype=torch.float32).to(device)\n",
    "test_data_out = torch.tensor(transformed_X[test_indices + lags - 1], dtype=torch.float32).to(device)\n",
    "\n",
    "train_dataset = TimeSeriesDataset(train_data_in, train_data_out)\n",
    "valid_dataset = TimeSeriesDataset(valid_data_in, valid_data_out)\n",
    "test_dataset = TimeSeriesDataset(test_data_in, test_data_out)"
   ]
  },
  {
   "cell_type": "markdown",
   "metadata": {},
   "source": [
    "We train the model using the training and validation datasets."
   ]
  },
  {
   "cell_type": "code",
   "execution_count": 6,
   "metadata": {},
   "outputs": [
    {
     "name": "stdout",
     "output_type": "stream",
     "text": [
      "Training epoch 1\n",
      "Error tensor(0.4752)\n",
      "Training epoch 20\n",
      "Error tensor(0.2213)\n",
      "Training epoch 40\n",
      "Error tensor(0.2150)\n",
      "Training epoch 60\n",
      "Error tensor(0.2170)\n",
      "Training epoch 80\n",
      "Error tensor(0.2128)\n",
      "Training epoch 100\n",
      "Error tensor(0.2103)\n",
      "Training epoch 120\n",
      "Error tensor(0.2048)\n",
      "Training epoch 140\n",
      "Error tensor(0.1967)\n",
      "Training epoch 160\n",
      "Error tensor(0.1792)\n",
      "Training epoch 180\n",
      "Error tensor(0.1710)\n",
      "Training epoch 200\n",
      "Error tensor(0.1607)\n",
      "Training epoch 220\n",
      "Error tensor(0.1533)\n",
      "Training epoch 240\n",
      "Error tensor(0.1488)\n",
      "Training epoch 260\n",
      "Error tensor(0.1397)\n",
      "Training epoch 280\n",
      "Error tensor(0.1335)\n",
      "Training epoch 300\n",
      "Error tensor(0.1287)\n",
      "Training epoch 320\n",
      "Error tensor(0.1250)\n",
      "Training epoch 340\n",
      "Error tensor(0.1230)\n",
      "Training epoch 360\n",
      "Error tensor(0.1220)\n",
      "Training epoch 380\n",
      "Error tensor(0.1184)\n",
      "Training epoch 400\n",
      "Error tensor(0.1177)\n",
      "Training epoch 420\n",
      "Error tensor(0.1170)\n",
      "Training epoch 440\n",
      "Error tensor(0.1164)\n",
      "Training epoch 460\n",
      "Error tensor(0.1158)\n",
      "Training epoch 480\n",
      "Error tensor(0.1144)\n",
      "Training epoch 500\n",
      "Error tensor(0.1160)\n"
     ]
    }
   ],
   "source": [
    "shred = models.SHRED(num_sensors, m, hidden_size=64, hidden_layers=2, l1=350, l2=400, dropout=0.1).to(device)\n",
    "validation_errors = models.fit(shred, train_dataset, valid_dataset, batch_size=64, num_epochs=500, lr=1e-3, verbose=True, patience=5)"
   ]
  },
  {
   "cell_type": "markdown",
   "metadata": {},
   "source": [
    "Finally, we generate reconstructions from the test set and print mean square error compared to the ground truth."
   ]
  },
  {
   "cell_type": "code",
   "execution_count": 7,
   "metadata": {},
   "outputs": [
    {
     "name": "stdout",
     "output_type": "stream",
     "text": [
      "0.021365903\n"
     ]
    }
   ],
   "source": [
    "test_recons = sc.inverse_transform(shred(test_dataset.X).detach().cpu().numpy())\n",
    "test_ground_truth = sc.inverse_transform(test_dataset.Y.detach().cpu().numpy())\n",
    "print(np.linalg.norm(test_recons - test_ground_truth) / np.linalg.norm(test_ground_truth))"
   ]
  },
  {
   "cell_type": "code",
   "execution_count": 8,
   "metadata": {},
   "outputs": [],
   "source": [
    "# The following code is written by me in order to complete the required tasks for this homework"
   ]
  },
  {
   "cell_type": "code",
   "execution_count": 8,
   "metadata": {},
   "outputs": [
    {
     "data": {
      "image/png": "[encoded data removed]",
      "text/plain": [
       "<Figure size 432x288 with 1 Axes>"
      ]
     },
     "metadata": {
      "needs_background": "light"
     },
     "output_type": "display_data"
    }
   ],
   "source": [
    "# Q2 plot the trained result.\n",
    "import matplotlib.pyplot as plt\n",
    "\n",
    "# Choose a random sensor to plot\n",
    "sensor_index = 0\n",
    "\n",
    "# Plot the ground truth values\n",
    "plt.plot(test_ground_truth[:, sensor_index], label='Ground Truth')\n",
    "\n",
    "# Plot the predicted values\n",
    "plt.plot(test_recons[:, sensor_index], label='Predictions')\n",
    "\n",
    "plt.title('Predictions vs Ground Truth')\n",
    "plt.xlabel('Time Step')\n",
    "plt.ylabel('Sensor Reading')\n",
    "\n",
    "plt.legend()\n",
    "plt.show()"
   ]
  },
  {
   "cell_type": "code",
   "execution_count": 11,
   "metadata": {},
   "outputs": [
    {
     "name": "stdout",
     "output_type": "stream",
     "text": [
      "Training epoch 1\n",
      "Error tensor(0.4796)\n",
      "Training epoch 20\n",
      "Error tensor(0.2232)\n",
      "Training epoch 40\n",
      "Error tensor(0.2153)\n",
      "Training epoch 60\n",
      "Error tensor(0.2139)\n",
      "Training epoch 1\n",
      "Error tensor(0.4736)\n",
      "Training epoch 20\n",
      "Error tensor(0.2218)\n",
      "Training epoch 40\n",
      "Error tensor(0.2146)\n",
      "Training epoch 60\n",
      "Error tensor(0.2182)\n",
      "Training epoch 1\n",
      "Error tensor(0.4741)\n",
      "Training epoch 20\n",
      "Error tensor(0.2192)\n",
      "Training epoch 40\n",
      "Error tensor(0.2149)\n",
      "Training epoch 60\n",
      "Error tensor(0.2151)\n",
      "Training epoch 1\n",
      "Error tensor(0.4735)\n",
      "Training epoch 20\n",
      "Error tensor(0.2203)\n",
      "Training epoch 40\n",
      "Error tensor(0.2167)\n",
      "Training epoch 60\n",
      "Error tensor(0.2163)\n"
     ]
    },
    {
     "data": {
      "image/png": "[encoded data removed]",
      "text/plain": [
       "<Figure size 432x288 with 1 Axes>"
      ]
     },
     "metadata": {
      "needs_background": "light"
     },
     "output_type": "display_data"
    }
   ],
   "source": [
    "# Question 3\n",
    "import numpy as np\n",
    "\n",
    "# Define the list of lag values to test\n",
    "lags = np.arange(1, 41, 10)\n",
    "\n",
    "# Prepare a list to store the performance metrics for each lag value\n",
    "performance_metrics = []\n",
    "\n",
    "for lag in lags:\n",
    "    # Redefine your datasets using the current lag value\n",
    "    # You will need to adapt this to your specific code\n",
    "    all_data_in = np.zeros((n - lag, lag, num_sensors))\n",
    "    for i in range(len(all_data_in)):\n",
    "        all_data_in[i] = transformed_X[i:i+lag, sensor_locations]\n",
    "    \n",
    "    # Create the model and train it on the training data\n",
    "    shred = models.SHRED(num_sensors, m, hidden_size=64, hidden_layers=2, l1=350, l2=400, dropout=0.1).to(device)\n",
    "    validation_errors = models.fit(shred, train_dataset, valid_dataset, batch_size=64, num_epochs=60, lr=1e-3, verbose=True, patience=5)\n",
    "    \n",
    "    # Evaluate the model on the test data\n",
    "    test_recons = sc.inverse_transform(shred(test_dataset.X).detach().cpu().numpy())\n",
    "    test_ground_truth = sc.inverse_transform(test_dataset.Y.detach().cpu().numpy())\n",
    "    error = np.linalg.norm(test_recons - test_ground_truth) / np.linalg.norm(test_ground_truth)\n",
    "    \n",
    "    # Store the performance metric\n",
    "    performance_metrics.append(error)\n",
    "\n",
    "# Plot the performance metrics as a function of the lag value\n",
    "plt.plot(lags, performance_metrics)\n",
    "plt.title('Performance as a Function of Time Lag')\n",
    "plt.xlabel('Time Lag')\n",
    "plt.ylabel('Relative Error')\n",
    "plt.show()"
   ]
  },
  {
   "cell_type": "code",
   "execution_count": 14,
   "metadata": {},
   "outputs": [
    {
     "name": "stdout",
     "output_type": "stream",
     "text": [
      "Training epoch 1\n",
      "Error tensor(0.4732)\n",
      "Training epoch 20\n",
      "Error tensor(0.2190)\n",
      "Training epoch 40\n",
      "Error tensor(0.2147)\n",
      "Training epoch 60\n",
      "Error tensor(0.2158)\n",
      "Training epoch 1\n",
      "Error tensor(0.4737)\n",
      "Training epoch 20\n",
      "Error tensor(0.2203)\n",
      "Training epoch 40\n",
      "Error tensor(0.2149)\n",
      "Training epoch 60\n",
      "Error tensor(0.2137)\n",
      "Training epoch 1\n",
      "Error tensor(0.4726)\n",
      "Training epoch 20\n",
      "Error tensor(0.2199)\n",
      "Training epoch 40\n",
      "Error tensor(0.2153)\n",
      "Training epoch 60\n",
      "Error tensor(0.2183)\n",
      "Training epoch 1\n",
      "Error tensor(0.4844)\n",
      "Training epoch 20\n",
      "Error tensor(0.2230)\n",
      "Training epoch 40\n",
      "Error tensor(0.2166)\n",
      "Training epoch 60\n",
      "Error tensor(0.2152)\n",
      "Training epoch 1\n",
      "Error tensor(0.4808)\n",
      "Training epoch 20\n",
      "Error tensor(0.2182)\n",
      "Training epoch 40\n",
      "Error tensor(0.2165)\n",
      "Training epoch 60\n",
      "Error tensor(0.2136)\n",
      "Training epoch 1\n",
      "Error tensor(0.4771)\n",
      "Training epoch 20\n",
      "Error tensor(0.2231)\n",
      "Training epoch 40\n",
      "Error tensor(0.2150)\n",
      "Training epoch 60\n",
      "Error tensor(0.2142)\n"
     ]
    },
    {
     "data": {
      "image/png": "[encoded data removed]",
      "text/plain": [
       "<Figure size 432x288 with 1 Axes>"
      ]
     },
     "metadata": {
      "needs_background": "light"
     },
     "output_type": "display_data"
    }
   ],
   "source": [
    "# Question 4\n",
    "import numpy as np\n",
    "\n",
    "# Define the list of standard deviations for the Gaussian noise\n",
    "std_devs = [0.0, 0.01, 0.02, 0.05, 0.1, 0.2]\n",
    "\n",
    "lags = 52\n",
    "\n",
    "# Prepare a list to store the performance metrics for each level of noise\n",
    "performance_metrics = []\n",
    "\n",
    "for std_dev in std_devs:\n",
    "    # Add Gaussian noise to the data\n",
    "    noisy_X = load_X + np.random.normal(scale=std_dev, size=load_X.shape)\n",
    "    \n",
    "    # Preprocess the noisy data\n",
    "    sc = MinMaxScaler()\n",
    "    sc = sc.fit(noisy_X[train_indices])\n",
    "    transformed_X = sc.transform(noisy_X)\n",
    "\n",
    "    # Redefine your datasets using the noisy data\n",
    "    # You will need to adapt this to your specific code\n",
    "    all_data_in = np.zeros((n - lags, lags, num_sensors))\n",
    "    for i in range(len(all_data_in)):\n",
    "        all_data_in[i] = transformed_X[i:i+lags, sensor_locations]\n",
    "    \n",
    "    # and so on for the rest of your dataset creation code...\n",
    "    \n",
    "    # Create the model and train it on the noisy data\n",
    "    shred = models.SHRED(num_sensors, m, hidden_size=64, hidden_layers=2, l1=350, l2=400, dropout=0.1).to(device)\n",
    "    validation_errors = models.fit(shred, train_dataset, valid_dataset, batch_size=64, num_epochs=60, lr=1e-3, verbose=True, patience=5)\n",
    "    \n",
    "    # Evaluate the model on the test data\n",
    "    test_recons = sc.inverse_transform(shred(test_dataset.X).detach().cpu().numpy())\n",
    "    test_ground_truth = sc.inverse_transform(test_dataset.Y.detach().cpu().numpy())\n",
    "    error = np.linalg.norm(test_recons - test_ground_truth) / np.linalg.norm(test_ground_truth)\n",
    "    \n",
    "    # Store the performance metric\n",
    "    performance_metrics.append(error)\n",
    "\n",
    "# Plot the performance metrics as a function of the standard deviation of the noise\n",
    "plt.plot(std_devs, performance_metrics)\n",
    "plt.title('Performance as a Function of Noise Level')\n",
    "plt.xlabel('Standard Deviation of Noise')\n",
    "plt.ylabel('Relative Error')\n",
    "plt.show()\n"
   ]
  },
  {
   "cell_type": "code",
   "execution_count": 16,
   "metadata": {},
   "outputs": [
    {
     "name": "stdout",
     "output_type": "stream",
     "text": [
      "Training epoch 1\n",
      "Error tensor(0.4682)\n",
      "Training epoch 20\n",
      "Error tensor(0.2475)\n",
      "Training epoch 40\n",
      "Error tensor(0.2350)\n",
      "Training epoch 60\n",
      "Error tensor(0.2263)\n",
      "Training epoch 1\n",
      "Error tensor(0.4828)\n",
      "Training epoch 20\n",
      "Error tensor(0.2278)\n",
      "Training epoch 40\n",
      "Error tensor(0.2189)\n",
      "Training epoch 60\n",
      "Error tensor(0.2178)\n",
      "Training epoch 1\n",
      "Error tensor(0.4691)\n",
      "Training epoch 20\n",
      "Error tensor(0.2334)\n",
      "Training epoch 40\n",
      "Error tensor(0.2205)\n",
      "Training epoch 60\n",
      "Error tensor(0.2163)\n",
      "Training epoch 1\n",
      "Error tensor(0.4811)\n",
      "Training epoch 20\n",
      "Error tensor(0.2399)\n",
      "Training epoch 40\n",
      "Error tensor(0.2313)\n",
      "Training epoch 60\n",
      "Error tensor(0.2251)\n",
      "Training epoch 1\n",
      "Error tensor(0.4799)\n",
      "Training epoch 20\n",
      "Error tensor(0.2182)\n",
      "Training epoch 40\n",
      "Error tensor(0.2132)\n",
      "Training epoch 60\n",
      "Error tensor(0.2092)\n",
      "Training epoch 1\n",
      "Error tensor(0.4734)\n",
      "Training epoch 20\n",
      "Error tensor(0.2228)\n",
      "Training epoch 40\n",
      "Error tensor(0.2148)\n",
      "Training epoch 60\n",
      "Error tensor(0.2047)\n"
     ]
    },
    {
     "data": {
      "image/png": "[encoded data removed]",
      "text/plain": [
       "<Figure size 432x288 with 1 Axes>"
      ]
     },
     "metadata": {
      "needs_background": "light"
     },
     "output_type": "display_data"
    }
   ],
   "source": [
    "# Question 5\n",
    "def analyze_performance(num_sensors):\n",
    "    lags = 52\n",
    "    load_X = load_data('SST')\n",
    "    n = load_X.shape[0]\n",
    "    m = load_X.shape[1]\n",
    "    sensor_locations = np.random.choice(m, size=num_sensors, replace=False)\n",
    "\n",
    "    train_indices = np.random.choice(n - lags, size=1000, replace=False)\n",
    "    mask = np.ones(n - lags)\n",
    "    mask[train_indices] = 0\n",
    "    valid_test_indices = np.arange(0, n - lags)[np.where(mask!=0)[0]]\n",
    "    valid_indices = valid_test_indices[::2]\n",
    "    test_indices = valid_test_indices[1::2]\n",
    "\n",
    "    sc = MinMaxScaler()\n",
    "    sc = sc.fit(load_X[train_indices])\n",
    "    transformed_X = sc.transform(load_X)\n",
    "\n",
    "    all_data_in = np.zeros((n - lags, lags, num_sensors))\n",
    "    for i in range(len(all_data_in)):\n",
    "        all_data_in[i] = transformed_X[i:i+lags, sensor_locations]\n",
    "\n",
    "    device = 'cuda' if torch.cuda.is_available() else 'cpu'\n",
    "\n",
    "    train_data_in = torch.tensor(all_data_in[train_indices], dtype=torch.float32).to(device)\n",
    "    valid_data_in = torch.tensor(all_data_in[valid_indices], dtype=torch.float32).to(device)\n",
    "    test_data_in = torch.tensor(all_data_in[test_indices], dtype=torch.float32).to(device)\n",
    "\n",
    "    train_data_out = torch.tensor(transformed_X[train_indices + lags - 1], dtype=torch.float32).to(device)\n",
    "    valid_data_out = torch.tensor(transformed_X[valid_indices + lags - 1], dtype=torch.float32).to(device)\n",
    "    test_data_out = torch.tensor(transformed_X[test_indices + lags - 1], dtype=torch.float32).to(device)\n",
    "\n",
    "    train_dataset = TimeSeriesDataset(train_data_in, train_data_out)\n",
    "    valid_dataset = TimeSeriesDataset(valid_data_in, valid_data_out)\n",
    "    test_dataset = TimeSeriesDataset(test_data_in, test_data_out)\n",
    "\n",
    "    shred = models.SHRED(num_sensors, m, hidden_size=64, hidden_layers=2, l1=350, l2=400, dropout=0.1).to(device)\n",
    "    validation_errors = models.fit(shred, train_dataset, valid_dataset, batch_size=64, num_epochs=60, lr=1e-3, verbose=True, patience=5)\n",
    "\n",
    "    test_recons = sc.inverse_transform(shred(test_dataset.X).detach().cpu().numpy())\n",
    "    test_ground_truth = sc.inverse_transform(test_dataset.Y.detach().cpu().numpy())\n",
    "    performance = np.linalg.norm(test_recons - test_ground_truth) / np.linalg.norm(test_ground_truth)\n",
    "\n",
    "    return performance\n",
    "\n",
    "# Define the range of number of sensors to analyze\n",
    "num_sensors_range = range(1, 7)  # Example: 1 to 7 sensors\n",
    "\n",
    "performance_results = []\n",
    "for num_sensors in num_sensors_range:\n",
    "    performance = analyze_performance(num_sensors)\n",
    "    performance_results.append(performance)\n",
    "\n",
    "# Plot the performance results\n",
    "plt.plot(num_sensors_range, performance_results)\n",
    "plt.xlabel('Number of Sensors')\n",
    "plt.ylabel('Performance')\n",
    "plt.title('Performance vs. Number of Sensors')\n",
    "plt.show()"
   ]
  },
  {
   "cell_type": "code",
   "execution_count": null,
   "metadata": {},
   "outputs": [],
   "source": []
  }
 ],
 "metadata": {
  "kernelspec": {
   "display_name": "Python 3 (ipykernel)",
   "language": "python",
   "name": "python3"
  },
  "language_info": {
   "codemirror_mode": {
    "name": "ipython",
    "version": 3
   },
   "file_extension": ".py",
   "mimetype": "text/x-python",
   "name": "python",
   "nbconvert_exporter": "python",
   "pygments_lexer": "ipython3",
   "version": "3.9.7"
  },
  "vscode": {
   "interpreter": {
    "hash": "071f83251836d5bb3918d2af6501aef1a588d685a567aa45f470f25864dd9495"
   }
  }
 },
 "nbformat": 4,
 "nbformat_minor": 2
}
